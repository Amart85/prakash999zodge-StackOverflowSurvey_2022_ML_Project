{
  "nbformat": 4,
  "nbformat_minor": 0,
  "metadata": {
    "colab": {
      "provenance": []
    },
    "kernelspec": {
      "name": "python3",
      "display_name": "Python 3"
    },
    "language_info": {
      "name": "python"
    }
  },
  "cells": [
    {
      "cell_type": "code",
      "execution_count": 1,
      "metadata": {
        "id": "94KZa5mVpPvV"
      },
      "outputs": [],
      "source": [
        "import pandas as pd\n",
        "import numpy as np"
      ]
    },
    {
      "cell_type": "code",
      "source": [
        "data = pd.read_csv('/content/drive/MyDrive/ML/Project/survey_results_public v1.csv')"
      ],
      "metadata": {
        "id": "1KDlrSojpY85"
      },
      "execution_count": 3,
      "outputs": []
    },
    {
      "cell_type": "markdown",
      "source": [
        "The dataset contains over 64,000 responses to 60 questions (although many questions are optional). The responses have been anonymized to remove personally identifiable information, and each respondent has been assigned a randomized respondent ID.\n",
        "\n",
        "Let's view the list of columns in the data frame."
      ],
      "metadata": {
        "id": "K02nD9gWpjAS"
      }
    },
    {
      "cell_type": "code",
      "source": [
        "data.columns"
      ],
      "metadata": {
        "colab": {
          "base_uri": "https://localhost:8080/"
        },
        "id": "HscjUFgdpjku",
        "outputId": "bd82196d-9b50-437c-9d0e-ec4e63b26aae"
      },
      "execution_count": 4,
      "outputs": [
        {
          "output_type": "execute_result",
          "data": {
            "text/plain": [
              "Index(['ResponseId', 'MainBranch', 'Employment', 'RemoteWork',\n",
              "       'CodingActivities', 'EdLevel', 'LearnCode', 'LearnCodeOnline',\n",
              "       'LearnCodeCoursesCert', 'YearsCode', 'YearsCodePro', 'DevType',\n",
              "       'OrgSize', 'PurchaseInfluence', 'BuyNewTool', 'Country', 'Currency',\n",
              "       'CompTotal', 'CompFreq', 'LanguageHaveWorkedWith',\n",
              "       'LanguageWantToWorkWith', 'DatabaseHaveWorkedWith',\n",
              "       'DatabaseWantToWorkWith', 'PlatformHaveWorkedWith',\n",
              "       'PlatformWantToWorkWith', 'WebframeHaveWorkedWith',\n",
              "       'WebframeWantToWorkWith', 'MiscTechHaveWorkedWith',\n",
              "       'MiscTechWantToWorkWith', 'ToolsTechHaveWorkedWith',\n",
              "       'ToolsTechWantToWorkWith', 'NEWCollabToolsHaveWorkedWith',\n",
              "       'NEWCollabToolsWantToWorkWith', 'OpSysProfessional use',\n",
              "       'OpSysPersonal use', 'VersionControlSystem', 'VCInteraction',\n",
              "       'VCHostingPersonal use', 'VCHostingProfessional use',\n",
              "       'OfficeStackAsyncHaveWorkedWith', 'OfficeStackAsyncWantToWorkWith',\n",
              "       'OfficeStackSyncHaveWorkedWith', 'OfficeStackSyncWantToWorkWith',\n",
              "       'Blockchain', 'NEWSOSites', 'SOVisitFreq', 'SOAccount', 'SOPartFreq',\n",
              "       'SOComm', 'Age', 'Gender', 'Trans', 'Sexuality', 'Ethnicity',\n",
              "       'Accessibility', 'MentalHealth', 'TBranch', 'ICorPM', 'WorkExp',\n",
              "       'Knowledge_1', 'Knowledge_2', 'Knowledge_3', 'Knowledge_4',\n",
              "       'Knowledge_5', 'Knowledge_6', 'Knowledge_7', 'Frequency_1',\n",
              "       'Frequency_2', 'Frequency_3', 'TimeSearching', 'TimeAnswering',\n",
              "       'Onboarding', 'ProfessionalTech', 'TrueFalse_1', 'TrueFalse_2',\n",
              "       'TrueFalse_3', 'SurveyLength', 'SurveyEase', 'ConvertedCompYearly'],\n",
              "      dtype='object')"
            ]
          },
          "metadata": {},
          "execution_count": 4
        }
      ]
    },
    {
      "cell_type": "markdown",
      "source": [
        "That shortcodes for questions have been used as column names.\n",
        "\n",
        "We can refer to the schema file to see the full text of each question. The schema file contains two columns: qname and question."
      ],
      "metadata": {
        "id": "h5pBWZ1DqAfc"
      }
    },
    {
      "cell_type": "code",
      "source": [
        "schema = pd.read_csv('/content/drive/MyDrive/ML/Project/survey_results_schema.csv')"
      ],
      "metadata": {
        "id": "UNB_c5bMp1xJ"
      },
      "execution_count": 5,
      "outputs": []
    },
    {
      "cell_type": "code",
      "source": [
        "schema[['qname','question']]"
      ],
      "metadata": {
        "colab": {
          "base_uri": "https://localhost:8080/",
          "height": 423
        },
        "id": "2fonpmvBq5b0",
        "outputId": "04bb05e1-d58c-4c99-c2c9-a0ff7ded9916"
      },
      "execution_count": 11,
      "outputs": [
        {
          "output_type": "execute_result",
          "data": {
            "text/plain": [
              "          qname                                           question\n",
              "0            S0  <div><span style=\"font-size:19px;\"><strong>Hel...\n",
              "1      MetaInfo                                  Browser Meta Info\n",
              "2            S1  <span style=\"font-size:22px; font-family: aria...\n",
              "3    MainBranch  Which of the following options best describes ...\n",
              "4    Employment  Which of the following best describes your cur...\n",
              "..          ...                                                ...\n",
              "74  Frequency_2  Interacting with people outside of your immedi...\n",
              "75  Frequency_3  Encountering knowledge silos (where one indivi...\n",
              "76  TrueFalse_1  Are you involved in supporting new hires durin...\n",
              "77  TrueFalse_2  Do you use learning resources provided by your...\n",
              "78  TrueFalse_3  Does your employer give you time to learn new ...\n",
              "\n",
              "[79 rows x 2 columns]"
            ],
            "text/html": [
              "\n",
              "  <div id=\"df-800fb1a2-5402-464e-a6bd-90375e8d2631\">\n",
              "    <div class=\"colab-df-container\">\n",
              "      <div>\n",
              "<style scoped>\n",
              "    .dataframe tbody tr th:only-of-type {\n",
              "        vertical-align: middle;\n",
              "    }\n",
              "\n",
              "    .dataframe tbody tr th {\n",
              "        vertical-align: top;\n",
              "    }\n",
              "\n",
              "    .dataframe thead th {\n",
              "        text-align: right;\n",
              "    }\n",
              "</style>\n",
              "<table border=\"1\" class=\"dataframe\">\n",
              "  <thead>\n",
              "    <tr style=\"text-align: right;\">\n",
              "      <th></th>\n",
              "      <th>qname</th>\n",
              "      <th>question</th>\n",
              "    </tr>\n",
              "  </thead>\n",
              "  <tbody>\n",
              "    <tr>\n",
              "      <th>0</th>\n",
              "      <td>S0</td>\n",
              "      <td>&lt;div&gt;&lt;span style=\"font-size:19px;\"&gt;&lt;strong&gt;Hel...</td>\n",
              "    </tr>\n",
              "    <tr>\n",
              "      <th>1</th>\n",
              "      <td>MetaInfo</td>\n",
              "      <td>Browser Meta Info</td>\n",
              "    </tr>\n",
              "    <tr>\n",
              "      <th>2</th>\n",
              "      <td>S1</td>\n",
              "      <td>&lt;span style=\"font-size:22px; font-family: aria...</td>\n",
              "    </tr>\n",
              "    <tr>\n",
              "      <th>3</th>\n",
              "      <td>MainBranch</td>\n",
              "      <td>Which of the following options best describes ...</td>\n",
              "    </tr>\n",
              "    <tr>\n",
              "      <th>4</th>\n",
              "      <td>Employment</td>\n",
              "      <td>Which of the following best describes your cur...</td>\n",
              "    </tr>\n",
              "    <tr>\n",
              "      <th>...</th>\n",
              "      <td>...</td>\n",
              "      <td>...</td>\n",
              "    </tr>\n",
              "    <tr>\n",
              "      <th>74</th>\n",
              "      <td>Frequency_2</td>\n",
              "      <td>Interacting with people outside of your immedi...</td>\n",
              "    </tr>\n",
              "    <tr>\n",
              "      <th>75</th>\n",
              "      <td>Frequency_3</td>\n",
              "      <td>Encountering knowledge silos (where one indivi...</td>\n",
              "    </tr>\n",
              "    <tr>\n",
              "      <th>76</th>\n",
              "      <td>TrueFalse_1</td>\n",
              "      <td>Are you involved in supporting new hires durin...</td>\n",
              "    </tr>\n",
              "    <tr>\n",
              "      <th>77</th>\n",
              "      <td>TrueFalse_2</td>\n",
              "      <td>Do you use learning resources provided by your...</td>\n",
              "    </tr>\n",
              "    <tr>\n",
              "      <th>78</th>\n",
              "      <td>TrueFalse_3</td>\n",
              "      <td>Does your employer give you time to learn new ...</td>\n",
              "    </tr>\n",
              "  </tbody>\n",
              "</table>\n",
              "<p>79 rows × 2 columns</p>\n",
              "</div>\n",
              "      <button class=\"colab-df-convert\" onclick=\"convertToInteractive('df-800fb1a2-5402-464e-a6bd-90375e8d2631')\"\n",
              "              title=\"Convert this dataframe to an interactive table.\"\n",
              "              style=\"display:none;\">\n",
              "        \n",
              "  <svg xmlns=\"http://www.w3.org/2000/svg\" height=\"24px\"viewBox=\"0 0 24 24\"\n",
              "       width=\"24px\">\n",
              "    <path d=\"M0 0h24v24H0V0z\" fill=\"none\"/>\n",
              "    <path d=\"M18.56 5.44l.94 2.06.94-2.06 2.06-.94-2.06-.94-.94-2.06-.94 2.06-2.06.94zm-11 1L8.5 8.5l.94-2.06 2.06-.94-2.06-.94L8.5 2.5l-.94 2.06-2.06.94zm10 10l.94 2.06.94-2.06 2.06-.94-2.06-.94-.94-2.06-.94 2.06-2.06.94z\"/><path d=\"M17.41 7.96l-1.37-1.37c-.4-.4-.92-.59-1.43-.59-.52 0-1.04.2-1.43.59L10.3 9.45l-7.72 7.72c-.78.78-.78 2.05 0 2.83L4 21.41c.39.39.9.59 1.41.59.51 0 1.02-.2 1.41-.59l7.78-7.78 2.81-2.81c.8-.78.8-2.07 0-2.86zM5.41 20L4 18.59l7.72-7.72 1.47 1.35L5.41 20z\"/>\n",
              "  </svg>\n",
              "      </button>\n",
              "      \n",
              "  <style>\n",
              "    .colab-df-container {\n",
              "      display:flex;\n",
              "      flex-wrap:wrap;\n",
              "      gap: 12px;\n",
              "    }\n",
              "\n",
              "    .colab-df-convert {\n",
              "      background-color: #E8F0FE;\n",
              "      border: none;\n",
              "      border-radius: 50%;\n",
              "      cursor: pointer;\n",
              "      display: none;\n",
              "      fill: #1967D2;\n",
              "      height: 32px;\n",
              "      padding: 0 0 0 0;\n",
              "      width: 32px;\n",
              "    }\n",
              "\n",
              "    .colab-df-convert:hover {\n",
              "      background-color: #E2EBFA;\n",
              "      box-shadow: 0px 1px 2px rgba(60, 64, 67, 0.3), 0px 1px 3px 1px rgba(60, 64, 67, 0.15);\n",
              "      fill: #174EA6;\n",
              "    }\n",
              "\n",
              "    [theme=dark] .colab-df-convert {\n",
              "      background-color: #3B4455;\n",
              "      fill: #D2E3FC;\n",
              "    }\n",
              "\n",
              "    [theme=dark] .colab-df-convert:hover {\n",
              "      background-color: #434B5C;\n",
              "      box-shadow: 0px 1px 3px 1px rgba(0, 0, 0, 0.15);\n",
              "      filter: drop-shadow(0px 1px 2px rgba(0, 0, 0, 0.3));\n",
              "      fill: #FFFFFF;\n",
              "    }\n",
              "  </style>\n",
              "\n",
              "      <script>\n",
              "        const buttonEl =\n",
              "          document.querySelector('#df-800fb1a2-5402-464e-a6bd-90375e8d2631 button.colab-df-convert');\n",
              "        buttonEl.style.display =\n",
              "          google.colab.kernel.accessAllowed ? 'block' : 'none';\n",
              "\n",
              "        async function convertToInteractive(key) {\n",
              "          const element = document.querySelector('#df-800fb1a2-5402-464e-a6bd-90375e8d2631');\n",
              "          const dataTable =\n",
              "            await google.colab.kernel.invokeFunction('convertToInteractive',\n",
              "                                                     [key], {});\n",
              "          if (!dataTable) return;\n",
              "\n",
              "          const docLinkHtml = 'Like what you see? Visit the ' +\n",
              "            '<a target=\"_blank\" href=https://colab.research.google.com/notebooks/data_table.ipynb>data table notebook</a>'\n",
              "            + ' to learn more about interactive tables.';\n",
              "          element.innerHTML = '';\n",
              "          dataTable['output_type'] = 'display_data';\n",
              "          await google.colab.output.renderOutput(dataTable, element);\n",
              "          const docLink = document.createElement('div');\n",
              "          docLink.innerHTML = docLinkHtml;\n",
              "          element.appendChild(docLink);\n",
              "        }\n",
              "      </script>\n",
              "    </div>\n",
              "  </div>\n",
              "  "
            ]
          },
          "metadata": {},
          "execution_count": 11
        }
      ]
    },
    {
      "cell_type": "markdown",
      "source": [
        "Let's view some basic information about the data frame."
      ],
      "metadata": {
        "id": "nmtQ8O7jsDhd"
      }
    },
    {
      "cell_type": "code",
      "source": [
        "data.shape"
      ],
      "metadata": {
        "colab": {
          "base_uri": "https://localhost:8080/"
        },
        "id": "nZ5EZUDlq9Ln",
        "outputId": "3febca68-8db4-4bf5-a724-9f1f30420f06"
      },
      "execution_count": 12,
      "outputs": [
        {
          "output_type": "execute_result",
          "data": {
            "text/plain": [
              "(73268, 79)"
            ]
          },
          "metadata": {},
          "execution_count": 12
        }
      ]
    },
    {
      "cell_type": "code",
      "source": [
        "data.info()"
      ],
      "metadata": {
        "colab": {
          "base_uri": "https://localhost:8080/"
        },
        "id": "S14zK0v9rXrB",
        "outputId": "60a5c23c-a1f5-432c-d962-09383dd86574"
      },
      "execution_count": 13,
      "outputs": [
        {
          "output_type": "stream",
          "name": "stdout",
          "text": [
            "<class 'pandas.core.frame.DataFrame'>\n",
            "RangeIndex: 73268 entries, 0 to 73267\n",
            "Data columns (total 79 columns):\n",
            " #   Column                          Non-Null Count  Dtype  \n",
            "---  ------                          --------------  -----  \n",
            " 0   ResponseId                      73268 non-null  int64  \n",
            " 1   MainBranch                      73268 non-null  object \n",
            " 2   Employment                      71709 non-null  object \n",
            " 3   RemoteWork                      58958 non-null  object \n",
            " 4   CodingActivities                58899 non-null  object \n",
            " 5   EdLevel                         71571 non-null  object \n",
            " 6   LearnCode                       71580 non-null  object \n",
            " 7   LearnCodeOnline                 50685 non-null  object \n",
            " 8   LearnCodeCoursesCert            29389 non-null  object \n",
            " 9   YearsCode                       71331 non-null  object \n",
            " 10  YearsCodePro                    51833 non-null  object \n",
            " 11  DevType                         61302 non-null  object \n",
            " 12  OrgSize                         51039 non-null  object \n",
            " 13  PurchaseInfluence               50969 non-null  object \n",
            " 14  BuyNewTool                      67963 non-null  object \n",
            " 15  Country                         71771 non-null  object \n",
            " 16  Currency                        51264 non-null  object \n",
            " 17  CompTotal                       38422 non-null  float64\n",
            " 18  CompFreq                        44425 non-null  object \n",
            " 19  LanguageHaveWorkedWith          70975 non-null  object \n",
            " 20  LanguageWantToWorkWith          67027 non-null  object \n",
            " 21  DatabaseHaveWorkedWith          60121 non-null  object \n",
            " 22  DatabaseWantToWorkWith          51014 non-null  object \n",
            " 23  PlatformHaveWorkedWith          49924 non-null  object \n",
            " 24  PlatformWantToWorkWith          40415 non-null  object \n",
            " 25  WebframeHaveWorkedWith          53544 non-null  object \n",
            " 26  WebframeWantToWorkWith          46122 non-null  object \n",
            " 27  MiscTechHaveWorkedWith          44992 non-null  object \n",
            " 28  MiscTechWantToWorkWith          36810 non-null  object \n",
            " 29  ToolsTechHaveWorkedWith         54171 non-null  object \n",
            " 30  ToolsTechWantToWorkWith         46566 non-null  object \n",
            " 31  NEWCollabToolsHaveWorkedWith    70347 non-null  object \n",
            " 32  NEWCollabToolsWantToWorkWith    64108 non-null  object \n",
            " 33  OpSysProfessional use           65503 non-null  object \n",
            " 34  OpSysPersonal use               70963 non-null  object \n",
            " 35  VersionControlSystem            71379 non-null  object \n",
            " 36  VCInteraction                   68156 non-null  object \n",
            " 37  VCHostingPersonal use           0 non-null      float64\n",
            " 38  VCHostingProfessional use       0 non-null      float64\n",
            " 39  OfficeStackAsyncHaveWorkedWith  46223 non-null  object \n",
            " 40  OfficeStackAsyncWantToWorkWith  32072 non-null  object \n",
            " 41  OfficeStackSyncHaveWorkedWith   62128 non-null  object \n",
            " 42  OfficeStackSyncWantToWorkWith   47688 non-null  object \n",
            " 43  Blockchain                      71071 non-null  object \n",
            " 44  NEWSOSites                      71365 non-null  object \n",
            " 45  SOVisitFreq                     70961 non-null  object \n",
            " 46  SOAccount                       71572 non-null  object \n",
            " 47  SOPartFreq                      58229 non-null  object \n",
            " 48  SOComm                          71408 non-null  object \n",
            " 49  Age                             70946 non-null  object \n",
            " 50  Gender                          70853 non-null  object \n",
            " 51  Trans                           70315 non-null  object \n",
            " 52  Sexuality                       66565 non-null  object \n",
            " 53  Ethnicity                       69474 non-null  object \n",
            " 54  Accessibility                   67244 non-null  object \n",
            " 55  MentalHealth                    66447 non-null  object \n",
            " 56  TBranch                         52670 non-null  object \n",
            " 57  ICorPM                          36283 non-null  object \n",
            " 58  WorkExp                         36769 non-null  float64\n",
            " 59  Knowledge_1                     35804 non-null  object \n",
            " 60  Knowledge_2                     34973 non-null  object \n",
            " 61  Knowledge_3                     35133 non-null  object \n",
            " 62  Knowledge_4                     35097 non-null  object \n",
            " 63  Knowledge_5                     35014 non-null  object \n",
            " 64  Knowledge_6                     34991 non-null  object \n",
            " 65  Knowledge_7                     34977 non-null  object \n",
            " 66  Frequency_1                     35371 non-null  object \n",
            " 67  Frequency_2                     35344 non-null  object \n",
            " 68  Frequency_3                     34515 non-null  object \n",
            " 69  TimeSearching                   36198 non-null  object \n",
            " 70  TimeAnswering                   36022 non-null  object \n",
            " 71  Onboarding                      35679 non-null  object \n",
            " 72  ProfessionalTech                34906 non-null  object \n",
            " 73  TrueFalse_1                     35819 non-null  object \n",
            " 74  TrueFalse_2                     35715 non-null  object \n",
            " 75  TrueFalse_3                     35749 non-null  object \n",
            " 76  SurveyLength                    70444 non-null  object \n",
            " 77  SurveyEase                      70508 non-null  object \n",
            " 78  ConvertedCompYearly             38071 non-null  float64\n",
            "dtypes: float64(5), int64(1), object(73)\n",
            "memory usage: 44.2+ MB\n"
          ]
        }
      ]
    },
    {
      "cell_type": "markdown",
      "source": [
        "Let's look at the number of countries from which there are responses in the survey and plot the ten countries with the highest number of responses."
      ],
      "metadata": {
        "id": "-VTt7Nghssq6"
      }
    },
    {
      "cell_type": "code",
      "source": [
        "schema[schema['qname']=='Country']"
      ],
      "metadata": {
        "colab": {
          "base_uri": "https://localhost:8080/",
          "height": 81
        },
        "id": "4i9PjHp-sMVz",
        "outputId": "644628e0-1c1f-410a-cdba-37564ea20d7d"
      },
      "execution_count": 15,
      "outputs": [
        {
          "output_type": "execute_result",
          "data": {
            "text/plain": [
              "     qid    qname                                           question  \\\n",
              "18  QID6  Country  Where do you live? <span style=\"font-weight: b...   \n",
              "\n",
              "   force_resp type selector  \n",
              "18       True   MC       DL  "
            ],
            "text/html": [
              "\n",
              "  <div id=\"df-da92ec8d-1404-4a1e-8e46-62171ded7d52\">\n",
              "    <div class=\"colab-df-container\">\n",
              "      <div>\n",
              "<style scoped>\n",
              "    .dataframe tbody tr th:only-of-type {\n",
              "        vertical-align: middle;\n",
              "    }\n",
              "\n",
              "    .dataframe tbody tr th {\n",
              "        vertical-align: top;\n",
              "    }\n",
              "\n",
              "    .dataframe thead th {\n",
              "        text-align: right;\n",
              "    }\n",
              "</style>\n",
              "<table border=\"1\" class=\"dataframe\">\n",
              "  <thead>\n",
              "    <tr style=\"text-align: right;\">\n",
              "      <th></th>\n",
              "      <th>qid</th>\n",
              "      <th>qname</th>\n",
              "      <th>question</th>\n",
              "      <th>force_resp</th>\n",
              "      <th>type</th>\n",
              "      <th>selector</th>\n",
              "    </tr>\n",
              "  </thead>\n",
              "  <tbody>\n",
              "    <tr>\n",
              "      <th>18</th>\n",
              "      <td>QID6</td>\n",
              "      <td>Country</td>\n",
              "      <td>Where do you live? &lt;span style=\"font-weight: b...</td>\n",
              "      <td>True</td>\n",
              "      <td>MC</td>\n",
              "      <td>DL</td>\n",
              "    </tr>\n",
              "  </tbody>\n",
              "</table>\n",
              "</div>\n",
              "      <button class=\"colab-df-convert\" onclick=\"convertToInteractive('df-da92ec8d-1404-4a1e-8e46-62171ded7d52')\"\n",
              "              title=\"Convert this dataframe to an interactive table.\"\n",
              "              style=\"display:none;\">\n",
              "        \n",
              "  <svg xmlns=\"http://www.w3.org/2000/svg\" height=\"24px\"viewBox=\"0 0 24 24\"\n",
              "       width=\"24px\">\n",
              "    <path d=\"M0 0h24v24H0V0z\" fill=\"none\"/>\n",
              "    <path d=\"M18.56 5.44l.94 2.06.94-2.06 2.06-.94-2.06-.94-.94-2.06-.94 2.06-2.06.94zm-11 1L8.5 8.5l.94-2.06 2.06-.94-2.06-.94L8.5 2.5l-.94 2.06-2.06.94zm10 10l.94 2.06.94-2.06 2.06-.94-2.06-.94-.94-2.06-.94 2.06-2.06.94z\"/><path d=\"M17.41 7.96l-1.37-1.37c-.4-.4-.92-.59-1.43-.59-.52 0-1.04.2-1.43.59L10.3 9.45l-7.72 7.72c-.78.78-.78 2.05 0 2.83L4 21.41c.39.39.9.59 1.41.59.51 0 1.02-.2 1.41-.59l7.78-7.78 2.81-2.81c.8-.78.8-2.07 0-2.86zM5.41 20L4 18.59l7.72-7.72 1.47 1.35L5.41 20z\"/>\n",
              "  </svg>\n",
              "      </button>\n",
              "      \n",
              "  <style>\n",
              "    .colab-df-container {\n",
              "      display:flex;\n",
              "      flex-wrap:wrap;\n",
              "      gap: 12px;\n",
              "    }\n",
              "\n",
              "    .colab-df-convert {\n",
              "      background-color: #E8F0FE;\n",
              "      border: none;\n",
              "      border-radius: 50%;\n",
              "      cursor: pointer;\n",
              "      display: none;\n",
              "      fill: #1967D2;\n",
              "      height: 32px;\n",
              "      padding: 0 0 0 0;\n",
              "      width: 32px;\n",
              "    }\n",
              "\n",
              "    .colab-df-convert:hover {\n",
              "      background-color: #E2EBFA;\n",
              "      box-shadow: 0px 1px 2px rgba(60, 64, 67, 0.3), 0px 1px 3px 1px rgba(60, 64, 67, 0.15);\n",
              "      fill: #174EA6;\n",
              "    }\n",
              "\n",
              "    [theme=dark] .colab-df-convert {\n",
              "      background-color: #3B4455;\n",
              "      fill: #D2E3FC;\n",
              "    }\n",
              "\n",
              "    [theme=dark] .colab-df-convert:hover {\n",
              "      background-color: #434B5C;\n",
              "      box-shadow: 0px 1px 3px 1px rgba(0, 0, 0, 0.15);\n",
              "      filter: drop-shadow(0px 1px 2px rgba(0, 0, 0, 0.3));\n",
              "      fill: #FFFFFF;\n",
              "    }\n",
              "  </style>\n",
              "\n",
              "      <script>\n",
              "        const buttonEl =\n",
              "          document.querySelector('#df-da92ec8d-1404-4a1e-8e46-62171ded7d52 button.colab-df-convert');\n",
              "        buttonEl.style.display =\n",
              "          google.colab.kernel.accessAllowed ? 'block' : 'none';\n",
              "\n",
              "        async function convertToInteractive(key) {\n",
              "          const element = document.querySelector('#df-da92ec8d-1404-4a1e-8e46-62171ded7d52');\n",
              "          const dataTable =\n",
              "            await google.colab.kernel.invokeFunction('convertToInteractive',\n",
              "                                                     [key], {});\n",
              "          if (!dataTable) return;\n",
              "\n",
              "          const docLinkHtml = 'Like what you see? Visit the ' +\n",
              "            '<a target=\"_blank\" href=https://colab.research.google.com/notebooks/data_table.ipynb>data table notebook</a>'\n",
              "            + ' to learn more about interactive tables.';\n",
              "          element.innerHTML = '';\n",
              "          dataTable['output_type'] = 'display_data';\n",
              "          await google.colab.output.renderOutput(dataTable, element);\n",
              "          const docLink = document.createElement('div');\n",
              "          docLink.innerHTML = docLinkHtml;\n",
              "          element.appendChild(docLink);\n",
              "        }\n",
              "      </script>\n",
              "    </div>\n",
              "  </div>\n",
              "  "
            ]
          },
          "metadata": {},
          "execution_count": 15
        }
      ]
    },
    {
      "cell_type": "code",
      "source": [
        "data.Country.nunique()"
      ],
      "metadata": {
        "colab": {
          "base_uri": "https://localhost:8080/"
        },
        "id": "aKPxM39oszOF",
        "outputId": "c936296a-895e-43b3-c4a0-8d277ba98766"
      },
      "execution_count": 16,
      "outputs": [
        {
          "output_type": "execute_result",
          "data": {
            "text/plain": [
              "180"
            ]
          },
          "metadata": {},
          "execution_count": 16
        }
      ]
    },
    {
      "cell_type": "markdown",
      "source": [
        "We can identify the countries with the highest number of respondents using the value_counts method."
      ],
      "metadata": {
        "id": "BHZOacbktLCx"
      }
    },
    {
      "cell_type": "code",
      "source": [
        "data.Country.value_counts().head(15)"
      ],
      "metadata": {
        "colab": {
          "base_uri": "https://localhost:8080/"
        },
        "id": "jOHc6glbtG-T",
        "outputId": "6f0ebc3b-c9f1-4d33-c28e-4481e9f8fcab"
      },
      "execution_count": 17,
      "outputs": [
        {
          "output_type": "execute_result",
          "data": {
            "text/plain": [
              "United States of America                                13543\n",
              "India                                                    6639\n",
              "Germany                                                  5395\n",
              "United Kingdom of Great Britain and Northern Ireland     4190\n",
              "Canada                                                   2490\n",
              "France                                                   2328\n",
              "Brazil                                                   2109\n",
              "Poland                                                   1732\n",
              "Netherlands                                              1555\n",
              "Spain                                                    1521\n",
              "Italy                                                    1514\n",
              "Australia                                                1462\n",
              "Russian Federation                                       1229\n",
              "Turkey                                                   1020\n",
              "Sweden                                                   1020\n",
              "Name: Country, dtype: int64"
            ]
          },
          "metadata": {},
          "execution_count": 17
        }
      ]
    },
    {
      "cell_type": "markdown",
      "source": [
        "We can visualize this information using a bar chart."
      ],
      "metadata": {
        "id": "gggMv2OstU0v"
      }
    },
    {
      "cell_type": "code",
      "source": [
        "import plotly.express as px\n",
        "import plotly.graph_objects as go\n",
        "import matplotlib\n",
        "import matplotlib.pyplot as plt\n",
        "import seaborn as sns"
      ],
      "metadata": {
        "id": "KgooqI8gttZ4"
      },
      "execution_count": 18,
      "outputs": []
    },
    {
      "cell_type": "code",
      "source": [
        "top_countries = data.Country.value_counts().head(15)\n",
        "plt.figure(figsize=(12,6))\n",
        "plt.xticks(rotation=75)\n",
        "plt.title('Peoples from different countries')\n",
        "sns.barplot(x=top_countries.index, y=top_countries);"
      ],
      "metadata": {
        "colab": {
          "base_uri": "https://localhost:8080/",
          "height": 641
        },
        "id": "XbrdLIOMtPyJ",
        "outputId": "e8b7da9c-ef2f-42fa-e060-bc344d6dbbf6"
      },
      "execution_count": 29,
      "outputs": [
        {
          "output_type": "display_data",
          "data": {
            "text/plain": [
              "<Figure size 864x432 with 1 Axes>"
            ],
            "image/png": "[encoded data removed]"
          },
          "metadata": {
            "needs_background": "light"
          }
        }
      ]
    },
    {
      "cell_type": "markdown",
      "source": [
        "It shows high number of respondents are from the US and India"
      ],
      "metadata": {
        "id": "QrIvRSQpudRv"
      }
    },
    {
      "cell_type": "markdown",
      "source": [
        "Let's look at the distribution of responses for the Gender."
      ],
      "metadata": {
        "id": "A73xE95KuxL2"
      }
    },
    {
      "cell_type": "code",
      "source": [
        "schema[schema['qname']=='Gender']"
      ],
      "metadata": {
        "colab": {
          "base_uri": "https://localhost:8080/",
          "height": 81
        },
        "id": "7aaoH8IuuAMZ",
        "outputId": "2a16c6bf-5028-4600-a7d7-2e35f9463549"
      },
      "execution_count": 22,
      "outputs": [
        {
          "output_type": "execute_result",
          "data": {
            "text/plain": [
              "       qid   qname                                           question  \\\n",
              "45  QID122  Gender  Which of the following describe you, if any? P...   \n",
              "\n",
              "   force_resp type selector  \n",
              "45      False   MC     MAVR  "
            ],
            "text/html": [
              "\n",
              "  <div id=\"df-ff5ef04a-c56a-46eb-a9cb-7dede30a664b\">\n",
              "    <div class=\"colab-df-container\">\n",
              "      <div>\n",
              "<style scoped>\n",
              "    .dataframe tbody tr th:only-of-type {\n",
              "        vertical-align: middle;\n",
              "    }\n",
              "\n",
              "    .dataframe tbody tr th {\n",
              "        vertical-align: top;\n",
              "    }\n",
              "\n",
              "    .dataframe thead th {\n",
              "        text-align: right;\n",
              "    }\n",
              "</style>\n",
              "<table border=\"1\" class=\"dataframe\">\n",
              "  <thead>\n",
              "    <tr style=\"text-align: right;\">\n",
              "      <th></th>\n",
              "      <th>qid</th>\n",
              "      <th>qname</th>\n",
              "      <th>question</th>\n",
              "      <th>force_resp</th>\n",
              "      <th>type</th>\n",
              "      <th>selector</th>\n",
              "    </tr>\n",
              "  </thead>\n",
              "  <tbody>\n",
              "    <tr>\n",
              "      <th>45</th>\n",
              "      <td>QID122</td>\n",
              "      <td>Gender</td>\n",
              "      <td>Which of the following describe you, if any? P...</td>\n",
              "      <td>False</td>\n",
              "      <td>MC</td>\n",
              "      <td>MAVR</td>\n",
              "    </tr>\n",
              "  </tbody>\n",
              "</table>\n",
              "</div>\n",
              "      <button class=\"colab-df-convert\" onclick=\"convertToInteractive('df-ff5ef04a-c56a-46eb-a9cb-7dede30a664b')\"\n",
              "              title=\"Convert this dataframe to an interactive table.\"\n",
              "              style=\"display:none;\">\n",
              "        \n",
              "  <svg xmlns=\"http://www.w3.org/2000/svg\" height=\"24px\"viewBox=\"0 0 24 24\"\n",
              "       width=\"24px\">\n",
              "    <path d=\"M0 0h24v24H0V0z\" fill=\"none\"/>\n",
              "    <path d=\"M18.56 5.44l.94 2.06.94-2.06 2.06-.94-2.06-.94-.94-2.06-.94 2.06-2.06.94zm-11 1L8.5 8.5l.94-2.06 2.06-.94-2.06-.94L8.5 2.5l-.94 2.06-2.06.94zm10 10l.94 2.06.94-2.06 2.06-.94-2.06-.94-.94-2.06-.94 2.06-2.06.94z\"/><path d=\"M17.41 7.96l-1.37-1.37c-.4-.4-.92-.59-1.43-.59-.52 0-1.04.2-1.43.59L10.3 9.45l-7.72 7.72c-.78.78-.78 2.05 0 2.83L4 21.41c.39.39.9.59 1.41.59.51 0 1.02-.2 1.41-.59l7.78-7.78 2.81-2.81c.8-.78.8-2.07 0-2.86zM5.41 20L4 18.59l7.72-7.72 1.47 1.35L5.41 20z\"/>\n",
              "  </svg>\n",
              "      </button>\n",
              "      \n",
              "  <style>\n",
              "    .colab-df-container {\n",
              "      display:flex;\n",
              "      flex-wrap:wrap;\n",
              "      gap: 12px;\n",
              "    }\n",
              "\n",
              "    .colab-df-convert {\n",
              "      background-color: #E8F0FE;\n",
              "      border: none;\n",
              "      border-radius: 50%;\n",
              "      cursor: pointer;\n",
              "      display: none;\n",
              "      fill: #1967D2;\n",
              "      height: 32px;\n",
              "      padding: 0 0 0 0;\n",
              "      width: 32px;\n",
              "    }\n",
              "\n",
              "    .colab-df-convert:hover {\n",
              "      background-color: #E2EBFA;\n",
              "      box-shadow: 0px 1px 2px rgba(60, 64, 67, 0.3), 0px 1px 3px 1px rgba(60, 64, 67, 0.15);\n",
              "      fill: #174EA6;\n",
              "    }\n",
              "\n",
              "    [theme=dark] .colab-df-convert {\n",
              "      background-color: #3B4455;\n",
              "      fill: #D2E3FC;\n",
              "    }\n",
              "\n",
              "    [theme=dark] .colab-df-convert:hover {\n",
              "      background-color: #434B5C;\n",
              "      box-shadow: 0px 1px 3px 1px rgba(0, 0, 0, 0.15);\n",
              "      filter: drop-shadow(0px 1px 2px rgba(0, 0, 0, 0.3));\n",
              "      fill: #FFFFFF;\n",
              "    }\n",
              "  </style>\n",
              "\n",
              "      <script>\n",
              "        const buttonEl =\n",
              "          document.querySelector('#df-ff5ef04a-c56a-46eb-a9cb-7dede30a664b button.colab-df-convert');\n",
              "        buttonEl.style.display =\n",
              "          google.colab.kernel.accessAllowed ? 'block' : 'none';\n",
              "\n",
              "        async function convertToInteractive(key) {\n",
              "          const element = document.querySelector('#df-ff5ef04a-c56a-46eb-a9cb-7dede30a664b');\n",
              "          const dataTable =\n",
              "            await google.colab.kernel.invokeFunction('convertToInteractive',\n",
              "                                                     [key], {});\n",
              "          if (!dataTable) return;\n",
              "\n",
              "          const docLinkHtml = 'Like what you see? Visit the ' +\n",
              "            '<a target=\"_blank\" href=https://colab.research.google.com/notebooks/data_table.ipynb>data table notebook</a>'\n",
              "            + ' to learn more about interactive tables.';\n",
              "          element.innerHTML = '';\n",
              "          dataTable['output_type'] = 'display_data';\n",
              "          await google.colab.output.renderOutput(dataTable, element);\n",
              "          const docLink = document.createElement('div');\n",
              "          docLink.innerHTML = docLinkHtml;\n",
              "          element.appendChild(docLink);\n",
              "        }\n",
              "      </script>\n",
              "    </div>\n",
              "  </div>\n",
              "  "
            ]
          },
          "metadata": {},
          "execution_count": 22
        }
      ]
    },
    {
      "cell_type": "code",
      "source": [
        "gender_counts = data.Gender.value_counts().head(3)\n",
        "gender_counts"
      ],
      "metadata": {
        "colab": {
          "base_uri": "https://localhost:8080/"
        },
        "id": "0-qxnN1du4NQ",
        "outputId": "06fa108d-0ada-4e1f-b14a-76357d3c1399"
      },
      "execution_count": 27,
      "outputs": [
        {
          "output_type": "execute_result",
          "data": {
            "text/plain": [
              "Man                  64607\n",
              "Woman                 3399\n",
              "Prefer not to say     1172\n",
              "Name: Gender, dtype: int64"
            ]
          },
          "metadata": {},
          "execution_count": 27
        }
      ]
    },
    {
      "cell_type": "code",
      "source": [
        "plt.figure(figsize=(12,6))\n",
        "plt.title('Gender')\n",
        "plt.pie(gender_counts, labels=gender_counts.index, autopct='%1.1f%%', startangle=180);"
      ],
      "metadata": {
        "colab": {
          "base_uri": "https://localhost:8080/",
          "height": 373
        },
        "id": "eyaUZKQ3u9Cn",
        "outputId": "58b30722-8f62-415b-ac24-f416f2acb74a"
      },
      "execution_count": 30,
      "outputs": [
        {
          "output_type": "display_data",
          "data": {
            "text/plain": [
              "<Figure size 864x432 with 1 Axes>"
            ],
            "image/png": "[encoded data removed]"
          },
          "metadata": {}
        }
      ]
    },
    {
      "cell_type": "markdown",
      "source": [
        "Education Levels"
      ],
      "metadata": {
        "id": "eSdZGiAvwbem"
      }
    },
    {
      "cell_type": "code",
      "source": [
        "sns.countplot(y=data.EdLevel)\n",
        "plt.xticks(rotation=75);\n",
        "plt.title('Highest level of Education Level')\n",
        "plt.ylabel(None);"
      ],
      "metadata": {
        "colab": {
          "base_uri": "https://localhost:8080/",
          "height": 318
        },
        "id": "PAAuWF01vAcU",
        "outputId": "ba4ecc88-989e-442f-d004-c01bf147c997"
      },
      "execution_count": 32,
      "outputs": [
        {
          "output_type": "display_data",
          "data": {
            "text/plain": [
              "<Figure size 432x288 with 1 Axes>"
            ],
            "image/png": "[encoded data removed]"
          },
          "metadata": {
            "needs_background": "light"
          }
        }
      ]
    },
    {
      "cell_type": "code",
      "source": [],
      "metadata": {
        "id": "z5pZiX-Bwmw3"
      },
      "execution_count": null,
      "outputs": []
    }
  ]
}